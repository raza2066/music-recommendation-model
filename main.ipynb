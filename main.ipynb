{
 "cells": [
  {
   "cell_type": "code",
   "execution_count": null,
   "id": "14aa6229-93f3-4c3f-985f-3a9076b78d94",
   "metadata": {},
   "outputs": [],
   "source": [
    "import numpy as np\n",
    "import pandas as pd\n",
    "import matplotlib.pyplot as plt\n",
    "import seaborn as sb\n",
    "\n",
    "from sklearn.metrics.pairwise import cosine_similarity\n",
    "from sklearn.feature_extraction.text import CountVectorizer\n",
    "from sklearn.manifold import TSNE\n",
    "\n",
    "import warnings\n",
    "warnings.filterwarnings('ignore')\n"
   ]
  },
  {
   "cell_type": "code",
   "execution_count": null,
   "id": "86b4ebd2-8124-4497-87c3-ef2e1702f995",
   "metadata": {},
   "outputs": [],
   "source": [
    "tracks = pd.read_csv('million_song_subset.csv')\n",
    "tracks.head()\n"
   ]
  },
  {
   "cell_type": "code",
   "execution_count": null,
   "id": "cccfe178-ed52-45ca-b93e-8a48f243e71d",
   "metadata": {},
   "outputs": [],
   "source": [
    "tracks.shape\n"
   ]
  },
  {
   "cell_type": "code",
   "execution_count": null,
   "id": "1ea96adb-c3fe-4ce5-bda6-fcc752cd5722",
   "metadata": {},
   "outputs": [],
   "source": [
    "tracks.info()\n"
   ]
  },
  {
   "cell_type": "code",
   "execution_count": null,
   "id": "7ad65616-d35c-4a5e-af0a-ebf3771256f1",
   "metadata": {},
   "outputs": [],
   "source": [
    "tracks.isnull().sum()\n"
   ]
  },
  {
   "cell_type": "code",
   "execution_count": null,
   "id": "023ea044-fd42-4613-bee7-aa5e97886315",
   "metadata": {},
   "outputs": [],
   "source": [
    "tracks.dropna(inplace = True)\n",
    "tracks.isnull().sum().plot.bar()\n",
    "plt.show()\n"
   ]
  },
  {
   "cell_type": "code",
   "execution_count": null,
   "id": "48c8673c-14f3-4876-940a-9e9001c816f2",
   "metadata": {},
   "outputs": [],
   "source": [
    "tracks = tracks.drop(['id', 'id_artists'], axis = 1)\n"
   ]
  },
  {
   "cell_type": "code",
   "execution_count": null,
   "id": "b1cf76c3-4a42-41bb-a10e-967d53006a15",
   "metadata": {},
   "outputs": [],
   "source": [
    "model = TSNE(n_components = 2, random_state = 0)\n",
    "tsne_data = model.fit_transform(a.head(500))\n",
    "plt.figure(figsize = (7, 7))\n",
    "plt.scatter(tsne_data[:,0], tsne_data[:,1])\n",
    "plt.show()\n"
   ]
  },
  {
   "cell_type": "code",
   "execution_count": null,
   "id": "17717b2c-32f0-49b4-aae0-73338fef3fb9",
   "metadata": {},
   "outputs": [],
   "source": [
    "tracks['name'].nunique(), tracks.shape\n"
   ]
  },
  {
   "cell_type": "code",
   "execution_count": null,
   "id": "86ceab8b-23ec-4abd-b435-45e59b8f0668",
   "metadata": {},
   "outputs": [],
   "source": [
    "tracks = tracks.sort_values(by=['popularity'], ascending=False)\n",
    "tracks.drop_duplicates(subset=['name'], keep='first', inplace=True)\n"
   ]
  },
  {
   "cell_type": "code",
   "execution_count": null,
   "id": "aea5af81-3322-4899-8606-57be692e966b",
   "metadata": {},
   "outputs": [],
   "source": [
    "plt.figure(figsize = (10, 5))\n",
    "sb.countplot(tracks['release_year'])\n",
    "plt.axis('off')\n",
    "plt.show()\n"
   ]
  },
  {
   "cell_type": "code",
   "execution_count": null,
   "id": "ff884bf0-4218-44f8-85c4-2400a3898a88",
   "metadata": {},
   "outputs": [],
   "source": [
    "floats = []\n",
    "for col in tracks.columns:\n",
    "if tracks[col].dtype == 'float':\n",
    "\tfloats.append(col)\n",
    "\n",
    "len(floats)\n"
   ]
  },
  {
   "cell_type": "code",
   "execution_count": null,
   "id": "a6782ff8-3f25-4d1b-b59f-5827d9df3604",
   "metadata": {},
   "outputs": [],
   "source": [
    "plt.subplots(figsize = (15, 5))\n",
    "for i, col in enumerate(floats):\n",
    "plt.subplot(2, 5, i + 1)\n",
    "sb.distplot(tracks[col])\n",
    "plt.tight_layout()\n",
    "plt.show()\n"
   ]
  },
  {
   "cell_type": "code",
   "execution_count": null,
   "id": "d991f33f-4e1f-47ce-8358-dc67204fec26",
   "metadata": {},
   "outputs": [],
   "source": [
    "%%capture\n",
    "song_vectorizer = CountVectorizer()\n",
    "song_vectorizer.fit(tracks['genres'])\n"
   ]
  },
  {
   "cell_type": "code",
   "execution_count": null,
   "id": "99de4355-c905-4bf4-9e9a-604ec864c9f3",
   "metadata": {},
   "outputs": [],
   "source": [
    "tracks = tracks.sort_values(by=['popularity'], ascending=False).head(10000)\n"
   ]
  },
  {
   "cell_type": "code",
   "execution_count": null,
   "id": "e23bcc0c-72ec-4ef4-9f34-caeea17b28e7",
   "metadata": {},
   "outputs": [],
   "source": [
    "def get_similarities(song_name, data):\n",
    "\n",
    "# Getting vector for the input song.\n",
    "text_array1 = song_vectorizer.transform(data[data['name']==song_name]['genres']).toarray()\n",
    "num_array1 = data[data['name']==song_name].select_dtypes(include=np.number).to_numpy()\n",
    "\n",
    "# We will store similarity for each row of the dataset.\n",
    "sim = []\n",
    "for idx, row in data.iterrows():\n",
    "\tname = row['name']\n",
    "\t\n",
    "\t# Getting vector for current song.\n",
    "\ttext_array2 = song_vectorizer.transform(data[data['name']==name]['genres']).toarray()\n",
    "\tnum_array2 = data[data['name']==name].select_dtypes(include=np.number).to_numpy()\n",
    "\n",
    "\t# Calculating similarities for text as well as numeric features\n",
    "\ttext_sim = cosine_similarity(text_array1, text_array2)[0][0]\n",
    "\tnum_sim = cosine_similarity(num_array1, num_array2)[0][0]\n",
    "\tsim.append(text_sim + num_sim)\n",
    "\t\n",
    "return sim\n"
   ]
  },
  {
   "cell_type": "code",
   "execution_count": null,
   "id": "b0da5840-06d9-4e0c-a3fb-4d806cb5da2f",
   "metadata": {},
   "outputs": [],
   "source": [
    "def get_similarities(song_name, data):\n",
    "\n",
    "# Getting vector for the input song.\n",
    "text_array1 = song_vectorizer.transform(data[data['name']==song_name]['genres']).toarray()\n",
    "num_array1 = data[data['name']==song_name].select_dtypes(include=np.number).to_numpy()\n",
    "\n",
    "# We will store similarity for each row of the dataset.\n",
    "sim = []\n",
    "for idx, row in data.iterrows():\n",
    "\tname = row['name']\n",
    "\t\n",
    "\t# Getting vector for current song.\n",
    "\ttext_array2 = song_vectorizer.transform(data[data['name']==name]['genres']).toarray()\n",
    "\tnum_array2 = data[data['name']==name].select_dtypes(include=np.number).to_numpy()\n",
    "\n",
    "\t# Calculating similarities for text as well as numeric features\n",
    "\ttext_sim = cosine_similarity(text_array1, text_array2)[0][0]\n",
    "\tnum_sim = cosine_similarity(num_array1, num_array2)[0][0]\n",
    "\tsim.append(text_sim + num_sim)\n",
    "\t\n",
    "return sim\n"
   ]
  },
  {
   "cell_type": "code",
   "execution_count": null,
   "id": "d7619376-0fde-4eee-9bbe-4110f506d494",
   "metadata": {},
   "outputs": [],
   "source": [
    "def recommend_songs(song_name, data=tracks):\n",
    "# Base case\n",
    "if tracks[tracks['name'] == song_name].shape[0] == 0:\n",
    "\tprint('This song is either not so popular or you\\\n",
    "\thave entered invalid_name.\\n Some songs you may like:\\n')\n",
    "\t\n",
    "\tfor song in data.sample(n=5)['name'].values:\n",
    "\tprint(song)\n",
    "\treturn\n",
    "\n",
    "data['similarity_factor'] = get_similarities(song_name, data)\n",
    "\n",
    "data.sort_values(by=['similarity_factor', 'popularity'],\n",
    "\t\t\t\tascending = [False, False],\n",
    "\t\t\t\tinplace=True)\n",
    "\n",
    "# First song will be the input song itself as the similarity will be highest.\n",
    "display(data[['name', 'artists']][2:7])\n"
   ]
  },
  {
   "cell_type": "code",
   "execution_count": null,
   "id": "07187e09-8759-452a-a393-7d100957382d",
   "metadata": {},
   "outputs": [],
   "source": [
    "recommend_songs('Shape of You')\n"
   ]
  },
  {
   "cell_type": "code",
   "execution_count": null,
   "id": "8ff95391-ec57-48dc-ae70-ad11759af695",
   "metadata": {},
   "outputs": [],
   "source": [
    "recommend_songs('Love Someone')\n"
   ]
  },
  {
   "cell_type": "code",
   "execution_count": null,
   "id": "7278f788-2f0c-4bee-a78b-6681b468e6fe",
   "metadata": {},
   "outputs": [],
   "source": [
    "recommend_songs('Love me like you do')\n"
   ]
  }
 ],
 "metadata": {
  "kernelspec": {
   "display_name": "Python 3 (ipykernel)",
   "language": "python",
   "name": "python3"
  },
  "language_info": {
   "codemirror_mode": {
    "name": "ipython",
    "version": 3
   },
   "file_extension": ".py",
   "mimetype": "text/x-python",
   "name": "python",
   "nbconvert_exporter": "python",
   "pygments_lexer": "ipython3",
   "version": "3.12.0"
  }
 },
 "nbformat": 4,
 "nbformat_minor": 5
}
